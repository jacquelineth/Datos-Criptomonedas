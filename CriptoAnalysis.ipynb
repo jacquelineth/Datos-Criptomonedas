{
    "cells": [
        {
            "cell_type": "code",
            "execution_count": null,
            "source": [
                "import os \r\n",
                "\r\n",
                "import pandas as pd\r\n",
                "import matplotlib.pyplot as plt\r\n",
                "import mplfinance as mpf\r\n",
                "import seaborn as sns\r\n",
                "import datetime as dt\r\n",
                "\r\n",
                "from seaborn.matrix import heatmap\r\n"
            ],
            "outputs": [],
            "metadata": {}
        },
        {
            "cell_type": "code",
            "execution_count": null,
            "source": [
                "moneda  = \"USD\"\r\n",
                "metric = \"Close\""
            ],
            "outputs": [],
            "metadata": {}
        },
        {
            "cell_type": "markdown",
            "source": [
                "'''Data Prep'''"
            ],
            "metadata": {}
        },
        {
            "cell_type": "code",
            "execution_count": null,
            "source": [
                "cripto = []"
            ],
            "outputs": [],
            "metadata": {}
        },
        {
            "cell_type": "markdown",
            "source": [
                "#Parseamos el repertorio por csv de cripto\r\n",
                "\r\n"
            ],
            "metadata": {}
        },
        {
            "cell_type": "code",
            "execution_count": null,
            "source": [
                "#Parseamos el repertorio por csv de cripto\r\n",
                "directory = f\"Ficheros Originales\"+os.sep\r\n",
                "for fichero in os.listdir(directory):\r\n",
                "    if fichero.endswith(f\"{moneda}.csv\"):\r\n",
                "        cripto.append( fichero.split('-')[0])\r\n",
                "    else:\r\n",
                "        continue\r\n"
            ],
            "outputs": [],
            "metadata": {}
        },
        {
            "cell_type": "markdown",
            "source": [],
            "metadata": {}
        },
        {
            "cell_type": "code",
            "execution_count": null,
            "source": [
                "print(f\"Tabla de Cripto {cripto}\")\r\n",
                "\r\n",
                "colnames = []\r\n",
                "\r\n",
                "primero  = True \r\n",
                "\r\n",
                "for ticker in cripto :\r\n",
                "\r\n",
                "    data = pd.read_csv(directory+f\"{ticker}-{moneda}.csv\")\r\n",
                "    data = data.dropna(axis=0 )\r\n",
                "    if primero: \r\n",
                "        combined =  data[[metric]].copy ()\r\n",
                "        colnames.append(ticker)\r\n",
                "        combined.columns =  colnames\r\n",
                "        primero = False\r\n",
                "    else:\r\n",
                "        combined  = combined.join(data[metric])\r\n",
                "        colnames.append(ticker)\r\n",
                "        combined.columns = colnames  \r\n",
                "\r\n"
            ],
            "outputs": [],
            "metadata": {}
        },
        {
            "cell_type": "markdown",
            "source": [],
            "metadata": {}
        },
        {
            "cell_type": "code",
            "execution_count": null,
            "source": [
                "plt.yscale('log')\r\n",
                "\r\n",
                "mitad = len(cripto)//2\r\n",
                "\r\n",
                "\r\n",
                "plt.subplot(2,1,1)\r\n",
                "for ticker in cripto[mitad:]:\r\n",
                "    plt.plot(combined[ticker], label=ticker)\r\n",
                "    plt.legend(loc=\"upper left\")\r\n",
                "plt.yscale('log')\r\n"
            ],
            "outputs": [],
            "metadata": {}
        },
        {
            "cell_type": "markdown",
            "source": [],
            "metadata": {}
        },
        {
            "cell_type": "code",
            "execution_count": null,
            "source": [
                "plt.subplot(2,1,2 )\r\n",
                "for ticker in cripto[:mitad]:\r\n",
                "    plt.plot(combined[ticker], label=ticker)\r\n",
                "    plt.legend(loc=\"upper left\")\r\n",
                "plt.yscale('log')\r\n",
                "\r\n",
                "plt.show()"
            ],
            "outputs": [],
            "metadata": {}
        },
        {
            "cell_type": "markdown",
            "source": [
                "'''Calculate Correlation'''\r\n"
            ],
            "metadata": {}
        },
        {
            "cell_type": "code",
            "execution_count": null,
            "source": [
                "combined =  combined.pct_change().corr(method=\"pearson\") #linear correlation \r\n"
            ],
            "outputs": [],
            "metadata": {}
        },
        {
            "cell_type": "markdown",
            "source": [
                "#### Referencia  :  https://pandas.pydata.org/pandas-docs/stable/reference/api/pandas.DataFrame.corr.html Comprobar otros algoritmo \r\n",
                "''' Probando algoritmo de correlaciones\r\n",
                "combined =  combined.pct_change().corr(method=\"kendall\") # ordinal/rank correlation \r\n",
                "        ##Referencia  : https://en.wikipedia.org/wiki/Kendall_rank_correlation_coefficient\r\n",
                "combined =  combined.pct_change().corr(method=\"spearman\") # strictly monotone\r\n",
                "        ##Referncia  : https://en.wikipedia.org/wiki/Spearman%27s_rank_correlation_coefficient\r\n",
                "'''"
            ],
            "metadata": {}
        },
        {
            "cell_type": "code",
            "execution_count": null,
            "source": [
                "sns.heatmap(combined , annot=True, cmap=\"coolwarm\", annot_kws={\"size\":6})\r\n"
            ],
            "outputs": [],
            "metadata": {}
        },
        {
            "cell_type": "markdown",
            "source": [
                "## El heatmap enseña la correlación con colores entre las monedas, predomina el azul entonces sin correlaciones notable\r\n"
            ],
            "metadata": {}
        },
        {
            "cell_type": "code",
            "execution_count": null,
            "source": [
                "plt.show()"
            ],
            "outputs": [],
            "metadata": {}
        }
    ],
    "metadata": {
        "orig_nbformat": 4,
        "language_info": {
            "name": "python"
        }
    },
    "nbformat": 4,
    "nbformat_minor": 2
}