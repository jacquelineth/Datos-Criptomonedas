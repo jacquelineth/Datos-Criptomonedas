{
 "cells": [
  {
   "cell_type": "code",
   "execution_count": null,
   "metadata": {},
   "outputs": [],
   "source": [
    "import os \n",
    "\n",
    "import pandas as pd\n",
    "import matplotlib.pyplot as plt\n",
    "import mplfinance as mpf\n",
    "import seaborn as sns\n",
    "import datetime as dt\n",
    "\n",
    "from seaborn.matrix import heatmap\n"
   ]
  },
  {
   "cell_type": "code",
   "execution_count": null,
   "metadata": {},
   "outputs": [],
   "source": [
    "moneda  = \"USD\"\n",
    "metric = \"Close\""
   ]
  },
  {
   "cell_type": "markdown",
   "metadata": {},
   "source": [
    "'''Data Prep'''"
   ]
  },
  {
   "cell_type": "code",
   "execution_count": null,
   "metadata": {},
   "outputs": [],
   "source": [
    "cripto = []"
   ]
  },
  {
   "cell_type": "markdown",
   "metadata": {},
   "source": [
    "#Parseamos el repertorio por csv de cripto\n",
    "\n"
   ]
  },
  {
   "cell_type": "code",
   "execution_count": null,
   "metadata": {},
   "outputs": [],
   "source": [
    "#Parseamos el repertorio por csv de cripto\n",
    "directory = f\"Ficheros Originales\"+os.sep\n",
    "for fichero in os.listdir(directory):\n",
    "    if fichero.endswith(f\"{moneda}.csv\"):\n",
    "        cripto.append( fichero.split('-')[0])\n",
    "    else:\n",
    "        continue\n"
   ]
  },
  {
   "cell_type": "markdown",
   "metadata": {},
   "source": []
  },
  {
   "cell_type": "code",
   "execution_count": null,
   "metadata": {},
   "outputs": [],
   "source": [
    "print(f\"Tabla de Cripto {cripto}\")\n",
    "\n",
    "colnames = []\n",
    "\n",
    "primero  = True \n",
    "\n",
    "for ticker in cripto :\n",
    "\n",
    "    data = pd.read_csv(directory+f\"{ticker}-{moneda}.csv\")\n",
    "    data = data.dropna(axis=0 )\n",
    "    if primero: \n",
    "        combined =  data[[metric]].copy ()\n",
    "        colnames.append(ticker)\n",
    "        combined.columns =  colnames\n",
    "        primero = False\n",
    "    else:\n",
    "        combined  = combined.join(data[metric])\n",
    "        colnames.append(ticker)\n",
    "        combined.columns = colnames  \n",
    "\n"
   ]
  },
  {
   "cell_type": "markdown",
   "metadata": {},
   "source": []
  },
  {
   "cell_type": "code",
   "execution_count": null,
   "metadata": {},
   "outputs": [],
   "source": [
    "plt.yscale('log')\n",
    "\n",
    "mitad = len(cripto)//2\n",
    "\n",
    "\n",
    "plt.subplot(2,1,1)\n",
    "for ticker in cripto[mitad:]:\n",
    "    plt.plot(combined[ticker], label=ticker)\n",
    "    plt.legend(loc=\"upper left\")\n",
    "plt.yscale('log')\n"
   ]
  },
  {
   "cell_type": "markdown",
   "metadata": {},
   "source": []
  },
  {
   "cell_type": "code",
   "execution_count": null,
   "metadata": {},
   "outputs": [],
   "source": [
    "plt.subplot(2,1,2 )\n",
    "for ticker in cripto[:mitad]:\n",
    "    plt.plot(combined[ticker], label=ticker)\n",
    "    plt.legend(loc=\"upper left\")\n",
    "plt.yscale('log')\n",
    "\n",
    "plt.show()"
   ]
  },
  {
   "cell_type": "markdown",
   "metadata": {},
   "source": [
    "'''Calculate Correlation'''\n"
   ]
  },
  {
   "cell_type": "code",
   "execution_count": null,
   "metadata": {},
   "outputs": [],
   "source": [
    "combined =  combined.pct_change().corr(method=\"pearson\") #linear correlation \n"
   ]
  },
  {
   "cell_type": "markdown",
   "metadata": {},
   "source": [
    "#### Referencia  :  https://pandas.pydata.org/pandas-docs/stable/reference/api/pandas.DataFrame.corr.html Comprobar otros algoritmo \n",
    "''' Probando algoritmo de correlaciones\n",
    "combined =  combined.pct_change().corr(method=\"kendall\") # ordinal/rank correlation \n",
    "        ##Referencia  : https://en.wikipedia.org/wiki/Kendall_rank_correlation_coefficient\n",
    "combined =  combined.pct_change().corr(method=\"spearman\") # strictly monotone\n",
    "        ##Referncia  : https://en.wikipedia.org/wiki/Spearman%27s_rank_correlation_coefficient\n",
    "'''"
   ]
  },
  {
   "cell_type": "code",
   "execution_count": null,
   "metadata": {},
   "outputs": [],
   "source": [
    "sns.heatmap(combined , annot=True, cmap=\"coolwarm\", annot_kws={\"size\":6})\n"
   ]
  },
  {
   "cell_type": "markdown",
   "metadata": {},
   "source": [
    "## El heatmap enseña la correlación con colores entre las monedas, predomina el azul entonces sin correlaciones notable\n"
   ]
  },
  {
   "cell_type": "code",
   "execution_count": null,
   "metadata": {},
   "outputs": [],
   "source": [
    "plt.show()"
   ]
  }
 ],
 "metadata": {
  "kernelspec": {
   "display_name": "Python 3",
   "language": "python",
   "name": "python3"
  },
  "language_info": {
   "codemirror_mode": {
    "name": "ipython",
    "version": 3
   },
   "file_extension": ".py",
   "mimetype": "text/x-python",
   "name": "python",
   "nbconvert_exporter": "python",
   "pygments_lexer": "ipython3",
   "version": "3.7.9"
  }
 },
 "nbformat": 4,
 "nbformat_minor": 2
}
